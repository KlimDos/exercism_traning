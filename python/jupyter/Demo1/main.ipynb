{
 "cells": [
  {
   "cell_type": "markdown",
   "metadata": {},
   "source": [
    "### project structure\n",
    "```bash\n",
    ".\n",
    "├── main.py\n",
    "└── nature\n",
    "    ├── __init__.py\n",
    "    ├── __pycache__\n",
    "    └── animals.py\n",
    "```"
   ]
  },
  {
   "cell_type": "markdown",
   "metadata": {},
   "source": [
    "### Module _animals.py_"
   ]
  },
  {
   "cell_type": "code",
   "execution_count": 1,
   "metadata": {},
   "outputs": [],
   "source": [
    "class Dog:\n",
    "    # ! only for good boi's\n",
    "    def __init__(self, name, age):\n",
    "        self.name = name\n",
    "        self.age = age\n",
    "    def introduce(self):\n",
    "            strng = f'I am a dog {self.name} and I\\'m {self.age}'\n",
    "            return strng\n",
    "\n",
    "def pass_the_time(age,time):\n",
    "    summ = int(age) + int(time)\n",
    "    return summ\n"
   ]
  },
  {
   "cell_type": "markdown",
   "metadata": {},
   "source": [
    "### main.py\n",
    "#### import module\n"
   ]
  },
  {
   "cell_type": "code",
   "execution_count": 1,
   "metadata": {},
   "outputs": [],
   "source": [
    "import nature.animals"
   ]
  },
  {
   "cell_type": "code",
   "execution_count": 2,
   "metadata": {},
   "outputs": [
    {
     "name": "stdout",
     "output_type": "stream",
     "text": [
      "I am a dog Bob and I'm 27\n",
      "I am a dog Bob and I'm 37\n"
     ]
    }
   ],
   "source": [
    "d = nature.animals.Dog(\"Bob\",\"27\")\n",
    "print (d.introduce())\n",
    "d.age = nature.animals.pass_the_time(d.age,\"10\")\n",
    "print (d.introduce())"
   ]
  },
  {
   "cell_type": "code",
   "execution_count": null,
   "metadata": {},
   "outputs": [],
   "source": []
  }
 ],
 "metadata": {
  "kernelspec": {
   "display_name": "Python 3",
   "language": "python",
   "name": "python3"
  },
  "language_info": {
   "codemirror_mode": {
    "name": "ipython",
    "version": 3
   },
   "file_extension": ".py",
   "mimetype": "text/x-python",
   "name": "python",
   "nbconvert_exporter": "python",
   "pygments_lexer": "ipython3",
   "version": "3.7.3"
  }
 },
 "nbformat": 4,
 "nbformat_minor": 2
}
